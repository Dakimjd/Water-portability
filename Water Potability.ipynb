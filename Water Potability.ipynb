{
 "cells": [
  {
   "cell_type": "markdown",
   "id": "803bedc2",
   "metadata": {},
   "source": [
    "# WATER POTABILITY ANALYSIS"
   ]
  },
  {
   "cell_type": "markdown",
   "id": "6005842c",
   "metadata": {},
   "source": [
    "## Features Description:\n",
    "- pH value: PH is an important parameter in evaluating the acid–base balance of water. It is also the indicator of acidic or alkaline condition of water status. WHO has recommended maximum permissible limit of pH from 6.5 to 8.5. The current investigation ranges were 6.52–6.83 which are in the range of WHO standards.\n",
    "\n",
    "- Hardness: Hardness is mainly caused by calcium and magnesium salts. These salts are dissolved from geologic deposits through which water travels. The length of time water is in contact with hardness producing material helps determine how much hardness there is in raw water. Hardness was originally defined as the capacity of water to precipitate soap caused by Calcium and Magnesium.\n",
    "\n",
    "- Solids (Total dissolved solids - TDS): Water has the ability to dissolve a wide range of inorganic and some organic minerals or salts such as potassium, calcium, sodium, bicarbonates, chlorides, magnesium, sulfates etc. These minerals produced un-wanted taste and diluted color in appearance of water. This is the important parameter for the use of water. The water with high TDS value indicates that water is highly mineralized. Desirable limit for TDS is 500 mg/l and maximum limit is 1000 mg/l which prescribed for drinking purpose.\n",
    "\n",
    "- Chloramines: Chlorine and chloramine are the major disinfectants used in public water systems. Chloramines are most commonly formed when ammonia is added to chlorine to treat drinking water. Chlorine levels up to 4 milligrams per liter (mg/L or 4 parts per million (ppm)) are considered safe in drinking water.\n",
    "\n",
    "- Sulfate: Sulfates are naturally occurring substances that are found in minerals, soil, and rocks. They are present in ambient air, groundwater, plants, and food. The principal commercial use of sulfate is in the chemical industry. Sulfate concentration in seawater is about 2,700 milligrams per liter (mg/L). It ranges from 3 to 30 mg/L in most freshwater supplies, although much higher concentrations (1000 mg/L) are found in some geographic locations.\n",
    "\n",
    "- Conductivity: Pure water is not a good conductor of electric current rather’s a good insulator. Increase in ions concentration enhances the electrical conductivity of water. Generally, the amount of dissolved solids in water determines the electrical conductivity. Electrical conductivity (EC) actually measures the ionic process of a solution that enables it to transmit current. According to WHO standards, EC value should not exceeded 400 μS/cm.\n",
    "\n",
    "- Organic_carbon: Total Organic Carbon (TOC) in source waters comes from decaying natural organic matter (NOM) as well as synthetic sources. TOC is a measure of the total amount of carbon in organic compounds in pure water. According to US EPA < 2 mg/L as TOC in treated / drinking water, and < 4 mg/Lit in source water which is use for treatment.\n",
    "\n",
    "- Trihalomethanes: THMs are chemicals which may be found in water treated with chlorine. The concentration of THMs in drinking water varies according to the level of organic material in the water, the amount of chlorine required to treat the water, and the temperature of the water that is being treated. THM levels up to 80 ppm is considered safe in drinking water.\n",
    "\n",
    "- Turbidity: The turbidity of water depends on the quantity of solid matter present in the suspended state. It is a measure of light emitting properties of water and the test is used to indicate the quality of waste discharge with respect to colloidal matter. The mean turbidity value obtained for Wondo Genet Campus (0.98 NTU) is lower than the WHO recommended value of 5.00 NTU.\n",
    "\n",
    "- Potability: Indicates if water is safe for human consumption where 1 means Potable and 0 means Not potable."
   ]
  },
  {
   "cell_type": "code",
   "execution_count": 7,
   "id": "008a47ea",
   "metadata": {},
   "outputs": [],
   "source": [
    "# IMPORTING LIBRARIES\n",
    "import pandas as pd\n",
    "import numpy as np\n",
    "import matplotlib.pyplot as plt\n",
    "import seaborn as sns\n",
    "%matplotlib inline\n",
    "import warnings\n",
    "warnings.filterwarnings('ignore')"
   ]
  },
  {
   "cell_type": "code",
   "execution_count": 8,
   "id": "52064e0c",
   "metadata": {},
   "outputs": [],
   "source": [
    "#Importing the dataset\n",
    "water = pd.read_csv('water_potability.csv')\n",
    "df1 = water.copy()"
   ]
  },
  {
   "cell_type": "code",
   "execution_count": 9,
   "id": "8759baed",
   "metadata": {},
   "outputs": [
    {
     "data": {
      "text/html": [
       "<div>\n",
       "<style scoped>\n",
       "    .dataframe tbody tr th:only-of-type {\n",
       "        vertical-align: middle;\n",
       "    }\n",
       "\n",
       "    .dataframe tbody tr th {\n",
       "        vertical-align: top;\n",
       "    }\n",
       "\n",
       "    .dataframe thead th {\n",
       "        text-align: right;\n",
       "    }\n",
       "</style>\n",
       "<table border=\"1\" class=\"dataframe\">\n",
       "  <thead>\n",
       "    <tr style=\"text-align: right;\">\n",
       "      <th></th>\n",
       "      <th>ph</th>\n",
       "      <th>Hardness</th>\n",
       "      <th>Solids</th>\n",
       "      <th>Chloramines</th>\n",
       "      <th>Sulfate</th>\n",
       "      <th>Conductivity</th>\n",
       "      <th>Organic_carbon</th>\n",
       "      <th>Trihalomethanes</th>\n",
       "      <th>Turbidity</th>\n",
       "      <th>Potability</th>\n",
       "    </tr>\n",
       "  </thead>\n",
       "  <tbody>\n",
       "    <tr>\n",
       "      <th>0</th>\n",
       "      <td>NaN</td>\n",
       "      <td>204.890455</td>\n",
       "      <td>20791.318981</td>\n",
       "      <td>7.300212</td>\n",
       "      <td>368.516441</td>\n",
       "      <td>564.308654</td>\n",
       "      <td>10.379783</td>\n",
       "      <td>86.990970</td>\n",
       "      <td>2.963135</td>\n",
       "      <td>0</td>\n",
       "    </tr>\n",
       "    <tr>\n",
       "      <th>1</th>\n",
       "      <td>3.716080</td>\n",
       "      <td>129.422921</td>\n",
       "      <td>18630.057858</td>\n",
       "      <td>6.635246</td>\n",
       "      <td>NaN</td>\n",
       "      <td>592.885359</td>\n",
       "      <td>15.180013</td>\n",
       "      <td>56.329076</td>\n",
       "      <td>4.500656</td>\n",
       "      <td>0</td>\n",
       "    </tr>\n",
       "    <tr>\n",
       "      <th>2</th>\n",
       "      <td>8.099124</td>\n",
       "      <td>224.236259</td>\n",
       "      <td>19909.541732</td>\n",
       "      <td>9.275884</td>\n",
       "      <td>NaN</td>\n",
       "      <td>418.606213</td>\n",
       "      <td>16.868637</td>\n",
       "      <td>66.420093</td>\n",
       "      <td>3.055934</td>\n",
       "      <td>0</td>\n",
       "    </tr>\n",
       "    <tr>\n",
       "      <th>3</th>\n",
       "      <td>8.316766</td>\n",
       "      <td>214.373394</td>\n",
       "      <td>22018.417441</td>\n",
       "      <td>8.059332</td>\n",
       "      <td>356.886136</td>\n",
       "      <td>363.266516</td>\n",
       "      <td>18.436524</td>\n",
       "      <td>100.341674</td>\n",
       "      <td>4.628771</td>\n",
       "      <td>0</td>\n",
       "    </tr>\n",
       "    <tr>\n",
       "      <th>4</th>\n",
       "      <td>9.092223</td>\n",
       "      <td>181.101509</td>\n",
       "      <td>17978.986339</td>\n",
       "      <td>6.546600</td>\n",
       "      <td>310.135738</td>\n",
       "      <td>398.410813</td>\n",
       "      <td>11.558279</td>\n",
       "      <td>31.997993</td>\n",
       "      <td>4.075075</td>\n",
       "      <td>0</td>\n",
       "    </tr>\n",
       "    <tr>\n",
       "      <th>...</th>\n",
       "      <td>...</td>\n",
       "      <td>...</td>\n",
       "      <td>...</td>\n",
       "      <td>...</td>\n",
       "      <td>...</td>\n",
       "      <td>...</td>\n",
       "      <td>...</td>\n",
       "      <td>...</td>\n",
       "      <td>...</td>\n",
       "      <td>...</td>\n",
       "    </tr>\n",
       "    <tr>\n",
       "      <th>3271</th>\n",
       "      <td>4.668102</td>\n",
       "      <td>193.681735</td>\n",
       "      <td>47580.991603</td>\n",
       "      <td>7.166639</td>\n",
       "      <td>359.948574</td>\n",
       "      <td>526.424171</td>\n",
       "      <td>13.894419</td>\n",
       "      <td>66.687695</td>\n",
       "      <td>4.435821</td>\n",
       "      <td>1</td>\n",
       "    </tr>\n",
       "    <tr>\n",
       "      <th>3272</th>\n",
       "      <td>7.808856</td>\n",
       "      <td>193.553212</td>\n",
       "      <td>17329.802160</td>\n",
       "      <td>8.061362</td>\n",
       "      <td>NaN</td>\n",
       "      <td>392.449580</td>\n",
       "      <td>19.903225</td>\n",
       "      <td>NaN</td>\n",
       "      <td>2.798243</td>\n",
       "      <td>1</td>\n",
       "    </tr>\n",
       "    <tr>\n",
       "      <th>3273</th>\n",
       "      <td>9.419510</td>\n",
       "      <td>175.762646</td>\n",
       "      <td>33155.578218</td>\n",
       "      <td>7.350233</td>\n",
       "      <td>NaN</td>\n",
       "      <td>432.044783</td>\n",
       "      <td>11.039070</td>\n",
       "      <td>69.845400</td>\n",
       "      <td>3.298875</td>\n",
       "      <td>1</td>\n",
       "    </tr>\n",
       "    <tr>\n",
       "      <th>3274</th>\n",
       "      <td>5.126763</td>\n",
       "      <td>230.603758</td>\n",
       "      <td>11983.869376</td>\n",
       "      <td>6.303357</td>\n",
       "      <td>NaN</td>\n",
       "      <td>402.883113</td>\n",
       "      <td>11.168946</td>\n",
       "      <td>77.488213</td>\n",
       "      <td>4.708658</td>\n",
       "      <td>1</td>\n",
       "    </tr>\n",
       "    <tr>\n",
       "      <th>3275</th>\n",
       "      <td>7.874671</td>\n",
       "      <td>195.102299</td>\n",
       "      <td>17404.177061</td>\n",
       "      <td>7.509306</td>\n",
       "      <td>NaN</td>\n",
       "      <td>327.459760</td>\n",
       "      <td>16.140368</td>\n",
       "      <td>78.698446</td>\n",
       "      <td>2.309149</td>\n",
       "      <td>1</td>\n",
       "    </tr>\n",
       "  </tbody>\n",
       "</table>\n",
       "<p>3276 rows × 10 columns</p>\n",
       "</div>"
      ],
      "text/plain": [
       "            ph    Hardness        Solids  Chloramines     Sulfate  \\\n",
       "0          NaN  204.890455  20791.318981     7.300212  368.516441   \n",
       "1     3.716080  129.422921  18630.057858     6.635246         NaN   \n",
       "2     8.099124  224.236259  19909.541732     9.275884         NaN   \n",
       "3     8.316766  214.373394  22018.417441     8.059332  356.886136   \n",
       "4     9.092223  181.101509  17978.986339     6.546600  310.135738   \n",
       "...        ...         ...           ...          ...         ...   \n",
       "3271  4.668102  193.681735  47580.991603     7.166639  359.948574   \n",
       "3272  7.808856  193.553212  17329.802160     8.061362         NaN   \n",
       "3273  9.419510  175.762646  33155.578218     7.350233         NaN   \n",
       "3274  5.126763  230.603758  11983.869376     6.303357         NaN   \n",
       "3275  7.874671  195.102299  17404.177061     7.509306         NaN   \n",
       "\n",
       "      Conductivity  Organic_carbon  Trihalomethanes  Turbidity  Potability  \n",
       "0       564.308654       10.379783        86.990970   2.963135           0  \n",
       "1       592.885359       15.180013        56.329076   4.500656           0  \n",
       "2       418.606213       16.868637        66.420093   3.055934           0  \n",
       "3       363.266516       18.436524       100.341674   4.628771           0  \n",
       "4       398.410813       11.558279        31.997993   4.075075           0  \n",
       "...            ...             ...              ...        ...         ...  \n",
       "3271    526.424171       13.894419        66.687695   4.435821           1  \n",
       "3272    392.449580       19.903225              NaN   2.798243           1  \n",
       "3273    432.044783       11.039070        69.845400   3.298875           1  \n",
       "3274    402.883113       11.168946        77.488213   4.708658           1  \n",
       "3275    327.459760       16.140368        78.698446   2.309149           1  \n",
       "\n",
       "[3276 rows x 10 columns]"
      ]
     },
     "execution_count": 9,
     "metadata": {},
     "output_type": "execute_result"
    }
   ],
   "source": [
    "water"
   ]
  },
  {
   "cell_type": "code",
   "execution_count": 10,
   "id": "39e62e16",
   "metadata": {},
   "outputs": [
    {
     "name": "stdout",
     "output_type": "stream",
     "text": [
      "<class 'pandas.core.frame.DataFrame'>\n",
      "RangeIndex: 3276 entries, 0 to 3275\n",
      "Data columns (total 10 columns):\n",
      " #   Column           Non-Null Count  Dtype  \n",
      "---  ------           --------------  -----  \n",
      " 0   ph               2785 non-null   float64\n",
      " 1   Hardness         3276 non-null   float64\n",
      " 2   Solids           3276 non-null   float64\n",
      " 3   Chloramines      3276 non-null   float64\n",
      " 4   Sulfate          2495 non-null   float64\n",
      " 5   Conductivity     3276 non-null   float64\n",
      " 6   Organic_carbon   3276 non-null   float64\n",
      " 7   Trihalomethanes  3114 non-null   float64\n",
      " 8   Turbidity        3276 non-null   float64\n",
      " 9   Potability       3276 non-null   int64  \n",
      "dtypes: float64(9), int64(1)\n",
      "memory usage: 256.1 KB\n"
     ]
    }
   ],
   "source": [
    "water.info()"
   ]
  },
  {
   "cell_type": "code",
   "execution_count": 11,
   "id": "d5dcaeb9",
   "metadata": {},
   "outputs": [
    {
     "data": {
      "text/html": [
       "<div>\n",
       "<style scoped>\n",
       "    .dataframe tbody tr th:only-of-type {\n",
       "        vertical-align: middle;\n",
       "    }\n",
       "\n",
       "    .dataframe tbody tr th {\n",
       "        vertical-align: top;\n",
       "    }\n",
       "\n",
       "    .dataframe thead th {\n",
       "        text-align: right;\n",
       "    }\n",
       "</style>\n",
       "<table border=\"1\" class=\"dataframe\">\n",
       "  <thead>\n",
       "    <tr style=\"text-align: right;\">\n",
       "      <th></th>\n",
       "      <th>ph</th>\n",
       "      <th>Hardness</th>\n",
       "      <th>Solids</th>\n",
       "      <th>Chloramines</th>\n",
       "      <th>Sulfate</th>\n",
       "      <th>Conductivity</th>\n",
       "      <th>Organic_carbon</th>\n",
       "      <th>Trihalomethanes</th>\n",
       "      <th>Turbidity</th>\n",
       "      <th>Potability</th>\n",
       "    </tr>\n",
       "  </thead>\n",
       "  <tbody>\n",
       "    <tr>\n",
       "      <th>count</th>\n",
       "      <td>2785.000000</td>\n",
       "      <td>3276.000000</td>\n",
       "      <td>3276.000000</td>\n",
       "      <td>3276.000000</td>\n",
       "      <td>2495.000000</td>\n",
       "      <td>3276.000000</td>\n",
       "      <td>3276.000000</td>\n",
       "      <td>3114.000000</td>\n",
       "      <td>3276.000000</td>\n",
       "      <td>3276.000000</td>\n",
       "    </tr>\n",
       "    <tr>\n",
       "      <th>mean</th>\n",
       "      <td>7.080795</td>\n",
       "      <td>196.369496</td>\n",
       "      <td>22014.092526</td>\n",
       "      <td>7.122277</td>\n",
       "      <td>333.775777</td>\n",
       "      <td>426.205111</td>\n",
       "      <td>14.284970</td>\n",
       "      <td>66.396293</td>\n",
       "      <td>3.966786</td>\n",
       "      <td>0.390110</td>\n",
       "    </tr>\n",
       "    <tr>\n",
       "      <th>std</th>\n",
       "      <td>1.594320</td>\n",
       "      <td>32.879761</td>\n",
       "      <td>8768.570828</td>\n",
       "      <td>1.583085</td>\n",
       "      <td>41.416840</td>\n",
       "      <td>80.824064</td>\n",
       "      <td>3.308162</td>\n",
       "      <td>16.175008</td>\n",
       "      <td>0.780382</td>\n",
       "      <td>0.487849</td>\n",
       "    </tr>\n",
       "    <tr>\n",
       "      <th>min</th>\n",
       "      <td>0.000000</td>\n",
       "      <td>47.432000</td>\n",
       "      <td>320.942611</td>\n",
       "      <td>0.352000</td>\n",
       "      <td>129.000000</td>\n",
       "      <td>181.483754</td>\n",
       "      <td>2.200000</td>\n",
       "      <td>0.738000</td>\n",
       "      <td>1.450000</td>\n",
       "      <td>0.000000</td>\n",
       "    </tr>\n",
       "    <tr>\n",
       "      <th>25%</th>\n",
       "      <td>6.093092</td>\n",
       "      <td>176.850538</td>\n",
       "      <td>15666.690297</td>\n",
       "      <td>6.127421</td>\n",
       "      <td>307.699498</td>\n",
       "      <td>365.734414</td>\n",
       "      <td>12.065801</td>\n",
       "      <td>55.844536</td>\n",
       "      <td>3.439711</td>\n",
       "      <td>0.000000</td>\n",
       "    </tr>\n",
       "    <tr>\n",
       "      <th>50%</th>\n",
       "      <td>7.036752</td>\n",
       "      <td>196.967627</td>\n",
       "      <td>20927.833607</td>\n",
       "      <td>7.130299</td>\n",
       "      <td>333.073546</td>\n",
       "      <td>421.884968</td>\n",
       "      <td>14.218338</td>\n",
       "      <td>66.622485</td>\n",
       "      <td>3.955028</td>\n",
       "      <td>0.000000</td>\n",
       "    </tr>\n",
       "    <tr>\n",
       "      <th>75%</th>\n",
       "      <td>8.062066</td>\n",
       "      <td>216.667456</td>\n",
       "      <td>27332.762127</td>\n",
       "      <td>8.114887</td>\n",
       "      <td>359.950170</td>\n",
       "      <td>481.792304</td>\n",
       "      <td>16.557652</td>\n",
       "      <td>77.337473</td>\n",
       "      <td>4.500320</td>\n",
       "      <td>1.000000</td>\n",
       "    </tr>\n",
       "    <tr>\n",
       "      <th>max</th>\n",
       "      <td>14.000000</td>\n",
       "      <td>323.124000</td>\n",
       "      <td>61227.196008</td>\n",
       "      <td>13.127000</td>\n",
       "      <td>481.030642</td>\n",
       "      <td>753.342620</td>\n",
       "      <td>28.300000</td>\n",
       "      <td>124.000000</td>\n",
       "      <td>6.739000</td>\n",
       "      <td>1.000000</td>\n",
       "    </tr>\n",
       "  </tbody>\n",
       "</table>\n",
       "</div>"
      ],
      "text/plain": [
       "                ph     Hardness        Solids  Chloramines      Sulfate  \\\n",
       "count  2785.000000  3276.000000   3276.000000  3276.000000  2495.000000   \n",
       "mean      7.080795   196.369496  22014.092526     7.122277   333.775777   \n",
       "std       1.594320    32.879761   8768.570828     1.583085    41.416840   \n",
       "min       0.000000    47.432000    320.942611     0.352000   129.000000   \n",
       "25%       6.093092   176.850538  15666.690297     6.127421   307.699498   \n",
       "50%       7.036752   196.967627  20927.833607     7.130299   333.073546   \n",
       "75%       8.062066   216.667456  27332.762127     8.114887   359.950170   \n",
       "max      14.000000   323.124000  61227.196008    13.127000   481.030642   \n",
       "\n",
       "       Conductivity  Organic_carbon  Trihalomethanes    Turbidity   Potability  \n",
       "count   3276.000000     3276.000000      3114.000000  3276.000000  3276.000000  \n",
       "mean     426.205111       14.284970        66.396293     3.966786     0.390110  \n",
       "std       80.824064        3.308162        16.175008     0.780382     0.487849  \n",
       "min      181.483754        2.200000         0.738000     1.450000     0.000000  \n",
       "25%      365.734414       12.065801        55.844536     3.439711     0.000000  \n",
       "50%      421.884968       14.218338        66.622485     3.955028     0.000000  \n",
       "75%      481.792304       16.557652        77.337473     4.500320     1.000000  \n",
       "max      753.342620       28.300000       124.000000     6.739000     1.000000  "
      ]
     },
     "execution_count": 11,
     "metadata": {},
     "output_type": "execute_result"
    }
   ],
   "source": [
    "water.describe()"
   ]
  },
  {
   "cell_type": "code",
   "execution_count": 12,
   "id": "22cbaaa6",
   "metadata": {},
   "outputs": [
    {
     "data": {
      "text/plain": [
       "(3276, 10)"
      ]
     },
     "execution_count": 12,
     "metadata": {},
     "output_type": "execute_result"
    }
   ],
   "source": [
    "water.shape"
   ]
  },
  {
   "cell_type": "code",
   "execution_count": 13,
   "id": "e48919d7",
   "metadata": {},
   "outputs": [
    {
     "data": {
      "text/plain": [
       "ph                 491\n",
       "Hardness             0\n",
       "Solids               0\n",
       "Chloramines          0\n",
       "Sulfate            781\n",
       "Conductivity         0\n",
       "Organic_carbon       0\n",
       "Trihalomethanes    162\n",
       "Turbidity            0\n",
       "Potability           0\n",
       "dtype: int64"
      ]
     },
     "execution_count": 13,
     "metadata": {},
     "output_type": "execute_result"
    }
   ],
   "source": [
    "water.isnull().sum()"
   ]
  },
  {
   "cell_type": "code",
   "execution_count": 14,
   "id": "faf9b066",
   "metadata": {},
   "outputs": [
    {
     "data": {
      "text/plain": [
       "ph                 14.987790\n",
       "Hardness            0.000000\n",
       "Solids              0.000000\n",
       "Chloramines         0.000000\n",
       "Sulfate            23.840049\n",
       "Conductivity        0.000000\n",
       "Organic_carbon      0.000000\n",
       "Trihalomethanes     4.945055\n",
       "Turbidity           0.000000\n",
       "Potability          0.000000\n",
       "dtype: float64"
      ]
     },
     "execution_count": 14,
     "metadata": {},
     "output_type": "execute_result"
    }
   ],
   "source": [
    "#checking the percentage of the missing values\n",
    "water.isna().mean()* 100"
   ]
  },
  {
   "cell_type": "markdown",
   "id": "03ff7c76",
   "metadata": {},
   "source": [
    "### The above values shows that \n",
    "- pH ~ 15%\n",
    "- Sulfate ~ 24%\n",
    "- Trihalomethanes ~ 5%"
   ]
  },
  {
   "cell_type": "code",
   "execution_count": 15,
   "id": "622196f8",
   "metadata": {},
   "outputs": [],
   "source": [
    "# Filling missing values\n",
    "df1['ph'].fillna(df1['ph'].median(), inplace = True)\n",
    "df1['Sulfate'].fillna(df1['Sulfate'].median(), inplace = True)\n",
    "df1['Trihalomethanes'].fillna(df1['Trihalomethanes'].median(), inplace = True)"
   ]
  },
  {
   "cell_type": "code",
   "execution_count": null,
   "id": "572443c3",
   "metadata": {},
   "outputs": [],
   "source": []
  },
  {
   "cell_type": "markdown",
   "id": "f2d20bd5",
   "metadata": {},
   "source": [
    "## EDA"
   ]
  },
  {
   "cell_type": "code",
   "execution_count": 16,
   "id": "6358330d",
   "metadata": {},
   "outputs": [
    {
     "data": {
      "text/plain": [
       "<AxesSubplot:xlabel='Potability', ylabel='count'>"
      ]
     },
     "execution_count": 16,
     "metadata": {},
     "output_type": "execute_result"
    },
    {
     "data": {
      "image/png": "[encoded data removed]",
      "text/plain": [
       "<Figure size 432x288 with 1 Axes>"
      ]
     },
     "metadata": {
      "needs_background": "light"
     },
     "output_type": "display_data"
    }
   ],
   "source": [
    "sns.countplot(df1['Potability'])"
   ]
  },
  {
   "cell_type": "code",
   "execution_count": 17,
   "id": "65731745",
   "metadata": {},
   "outputs": [
    {
     "data": {
      "text/plain": [
       "ph                 0.041266\n",
       "Hardness          -0.039342\n",
       "Solids             0.621634\n",
       "Chloramines       -0.012098\n",
       "Sulfate           -0.027278\n",
       "Conductivity       0.264490\n",
       "Organic_carbon     0.025533\n",
       "Trihalomethanes   -0.087289\n",
       "Turbidity         -0.007817\n",
       "Potability         0.450784\n",
       "dtype: float64"
      ]
     },
     "execution_count": 17,
     "metadata": {},
     "output_type": "execute_result"
    }
   ],
   "source": [
    "df1.skew()"
   ]
  },
  {
   "cell_type": "code",
   "execution_count": 18,
   "id": "fd256fc9",
   "metadata": {},
   "outputs": [
    {
     "data": {
      "text/plain": [
       "Index(['ph', 'Hardness', 'Solids', 'Chloramines', 'Sulfate', 'Conductivity',\n",
       "       'Organic_carbon', 'Trihalomethanes', 'Turbidity', 'Potability'],\n",
       "      dtype='object')"
      ]
     },
     "execution_count": 18,
     "metadata": {},
     "output_type": "execute_result"
    }
   ],
   "source": [
    "df1.columns"
   ]
  },
  {
   "cell_type": "code",
   "execution_count": 19,
   "id": "77b19ace",
   "metadata": {},
   "outputs": [],
   "source": [
    "from pandas_profiling import ProfileReport"
   ]
  },
  {
   "cell_type": "code",
   "execution_count": 39,
   "id": "36608900",
   "metadata": {},
   "outputs": [],
   "source": [
    "#df1.profile_report()"
   ]
  },
  {
   "cell_type": "markdown",
   "id": "5b7b74b0",
   "metadata": {},
   "source": [
    "### The pandas-profiling library was used to get the complete EDA for the dataset"
   ]
  },
  {
   "cell_type": "code",
   "execution_count": 37,
   "id": "c36b4df2",
   "metadata": {},
   "outputs": [
    {
     "data": {
      "text/html": [
       "<div>\n",
       "<style scoped>\n",
       "    .dataframe tbody tr th:only-of-type {\n",
       "        vertical-align: middle;\n",
       "    }\n",
       "\n",
       "    .dataframe tbody tr th {\n",
       "        vertical-align: top;\n",
       "    }\n",
       "\n",
       "    .dataframe thead th {\n",
       "        text-align: right;\n",
       "    }\n",
       "</style>\n",
       "<table border=\"1\" class=\"dataframe\">\n",
       "  <thead>\n",
       "    <tr style=\"text-align: right;\">\n",
       "      <th></th>\n",
       "      <th>ph</th>\n",
       "      <th>Hardness</th>\n",
       "      <th>Solids</th>\n",
       "      <th>Chloramines</th>\n",
       "      <th>Sulfate</th>\n",
       "      <th>Conductivity</th>\n",
       "      <th>Organic_carbon</th>\n",
       "      <th>Trihalomethanes</th>\n",
       "      <th>Turbidity</th>\n",
       "      <th>Potability</th>\n",
       "    </tr>\n",
       "  </thead>\n",
       "  <tbody>\n",
       "    <tr>\n",
       "      <th>ph</th>\n",
       "      <td>1.000000</td>\n",
       "      <td>0.075760</td>\n",
       "      <td>-0.082004</td>\n",
       "      <td>-0.031741</td>\n",
       "      <td>0.014178</td>\n",
       "      <td>0.017466</td>\n",
       "      <td>0.040240</td>\n",
       "      <td>0.003145</td>\n",
       "      <td>-0.036107</td>\n",
       "      <td>-0.003014</td>\n",
       "    </tr>\n",
       "    <tr>\n",
       "      <th>Hardness</th>\n",
       "      <td>0.075760</td>\n",
       "      <td>1.000000</td>\n",
       "      <td>-0.046899</td>\n",
       "      <td>-0.030054</td>\n",
       "      <td>-0.092833</td>\n",
       "      <td>-0.023915</td>\n",
       "      <td>0.003610</td>\n",
       "      <td>-0.012707</td>\n",
       "      <td>-0.014449</td>\n",
       "      <td>-0.013837</td>\n",
       "    </tr>\n",
       "    <tr>\n",
       "      <th>Solids</th>\n",
       "      <td>-0.082004</td>\n",
       "      <td>-0.046899</td>\n",
       "      <td>1.000000</td>\n",
       "      <td>-0.070148</td>\n",
       "      <td>-0.149747</td>\n",
       "      <td>0.013831</td>\n",
       "      <td>0.010242</td>\n",
       "      <td>-0.008799</td>\n",
       "      <td>0.019546</td>\n",
       "      <td>0.033743</td>\n",
       "    </tr>\n",
       "    <tr>\n",
       "      <th>Chloramines</th>\n",
       "      <td>-0.031741</td>\n",
       "      <td>-0.030054</td>\n",
       "      <td>-0.070148</td>\n",
       "      <td>1.000000</td>\n",
       "      <td>0.023762</td>\n",
       "      <td>-0.020486</td>\n",
       "      <td>-0.012653</td>\n",
       "      <td>0.016614</td>\n",
       "      <td>0.002363</td>\n",
       "      <td>0.023779</td>\n",
       "    </tr>\n",
       "    <tr>\n",
       "      <th>Sulfate</th>\n",
       "      <td>0.014178</td>\n",
       "      <td>-0.092833</td>\n",
       "      <td>-0.149747</td>\n",
       "      <td>0.023762</td>\n",
       "      <td>1.000000</td>\n",
       "      <td>-0.014182</td>\n",
       "      <td>0.027102</td>\n",
       "      <td>-0.025657</td>\n",
       "      <td>-0.009767</td>\n",
       "      <td>-0.020476</td>\n",
       "    </tr>\n",
       "    <tr>\n",
       "      <th>Conductivity</th>\n",
       "      <td>0.017466</td>\n",
       "      <td>-0.023915</td>\n",
       "      <td>0.013831</td>\n",
       "      <td>-0.020486</td>\n",
       "      <td>-0.014182</td>\n",
       "      <td>1.000000</td>\n",
       "      <td>0.020966</td>\n",
       "      <td>0.001184</td>\n",
       "      <td>0.005798</td>\n",
       "      <td>-0.008128</td>\n",
       "    </tr>\n",
       "    <tr>\n",
       "      <th>Organic_carbon</th>\n",
       "      <td>0.040240</td>\n",
       "      <td>0.003610</td>\n",
       "      <td>0.010242</td>\n",
       "      <td>-0.012653</td>\n",
       "      <td>0.027102</td>\n",
       "      <td>0.020966</td>\n",
       "      <td>1.000000</td>\n",
       "      <td>-0.012958</td>\n",
       "      <td>-0.027308</td>\n",
       "      <td>-0.030001</td>\n",
       "    </tr>\n",
       "    <tr>\n",
       "      <th>Trihalomethanes</th>\n",
       "      <td>0.003145</td>\n",
       "      <td>-0.012707</td>\n",
       "      <td>-0.008799</td>\n",
       "      <td>0.016614</td>\n",
       "      <td>-0.025657</td>\n",
       "      <td>0.001184</td>\n",
       "      <td>-0.012958</td>\n",
       "      <td>1.000000</td>\n",
       "      <td>-0.021487</td>\n",
       "      <td>0.006887</td>\n",
       "    </tr>\n",
       "    <tr>\n",
       "      <th>Turbidity</th>\n",
       "      <td>-0.036107</td>\n",
       "      <td>-0.014449</td>\n",
       "      <td>0.019546</td>\n",
       "      <td>0.002363</td>\n",
       "      <td>-0.009767</td>\n",
       "      <td>0.005798</td>\n",
       "      <td>-0.027308</td>\n",
       "      <td>-0.021487</td>\n",
       "      <td>1.000000</td>\n",
       "      <td>0.001581</td>\n",
       "    </tr>\n",
       "    <tr>\n",
       "      <th>Potability</th>\n",
       "      <td>-0.003014</td>\n",
       "      <td>-0.013837</td>\n",
       "      <td>0.033743</td>\n",
       "      <td>0.023779</td>\n",
       "      <td>-0.020476</td>\n",
       "      <td>-0.008128</td>\n",
       "      <td>-0.030001</td>\n",
       "      <td>0.006887</td>\n",
       "      <td>0.001581</td>\n",
       "      <td>1.000000</td>\n",
       "    </tr>\n",
       "  </tbody>\n",
       "</table>\n",
       "</div>"
      ],
      "text/plain": [
       "                       ph  Hardness    Solids  Chloramines   Sulfate  \\\n",
       "ph               1.000000  0.075760 -0.082004    -0.031741  0.014178   \n",
       "Hardness         0.075760  1.000000 -0.046899    -0.030054 -0.092833   \n",
       "Solids          -0.082004 -0.046899  1.000000    -0.070148 -0.149747   \n",
       "Chloramines     -0.031741 -0.030054 -0.070148     1.000000  0.023762   \n",
       "Sulfate          0.014178 -0.092833 -0.149747     0.023762  1.000000   \n",
       "Conductivity     0.017466 -0.023915  0.013831    -0.020486 -0.014182   \n",
       "Organic_carbon   0.040240  0.003610  0.010242    -0.012653  0.027102   \n",
       "Trihalomethanes  0.003145 -0.012707 -0.008799     0.016614 -0.025657   \n",
       "Turbidity       -0.036107 -0.014449  0.019546     0.002363 -0.009767   \n",
       "Potability      -0.003014 -0.013837  0.033743     0.023779 -0.020476   \n",
       "\n",
       "                 Conductivity  Organic_carbon  Trihalomethanes  Turbidity  \\\n",
       "ph                   0.017466        0.040240         0.003145  -0.036107   \n",
       "Hardness            -0.023915        0.003610        -0.012707  -0.014449   \n",
       "Solids               0.013831        0.010242        -0.008799   0.019546   \n",
       "Chloramines         -0.020486       -0.012653         0.016614   0.002363   \n",
       "Sulfate             -0.014182        0.027102        -0.025657  -0.009767   \n",
       "Conductivity         1.000000        0.020966         0.001184   0.005798   \n",
       "Organic_carbon       0.020966        1.000000        -0.012958  -0.027308   \n",
       "Trihalomethanes      0.001184       -0.012958         1.000000  -0.021487   \n",
       "Turbidity            0.005798       -0.027308        -0.021487   1.000000   \n",
       "Potability          -0.008128       -0.030001         0.006887   0.001581   \n",
       "\n",
       "                 Potability  \n",
       "ph                -0.003014  \n",
       "Hardness          -0.013837  \n",
       "Solids             0.033743  \n",
       "Chloramines        0.023779  \n",
       "Sulfate           -0.020476  \n",
       "Conductivity      -0.008128  \n",
       "Organic_carbon    -0.030001  \n",
       "Trihalomethanes    0.006887  \n",
       "Turbidity          0.001581  \n",
       "Potability         1.000000  "
      ]
     },
     "execution_count": 37,
     "metadata": {},
     "output_type": "execute_result"
    }
   ],
   "source": [
    "df1.corr()"
   ]
  },
  {
   "cell_type": "code",
   "execution_count": 38,
   "id": "5e0413e7",
   "metadata": {},
   "outputs": [
    {
     "data": {
      "text/plain": [
       "<AxesSubplot:>"
      ]
     },
     "execution_count": 38,
     "metadata": {},
     "output_type": "execute_result"
    },
    {
     "data": {
      "image/png": "[encoded data removed]",
      "text/plain": [
       "<Figure size 432x288 with 2 Axes>"
      ]
     },
     "metadata": {
      "needs_background": "light"
     },
     "output_type": "display_data"
    }
   ],
   "source": [
    "sns.heatmap(df1.corr())"
   ]
  },
  {
   "cell_type": "markdown",
   "id": "48ef2320",
   "metadata": {},
   "source": [
    "## Data Processing"
   ]
  },
  {
   "cell_type": "code",
   "execution_count": 21,
   "id": "b01ee939",
   "metadata": {},
   "outputs": [],
   "source": [
    "# identifying the target variable which is y\n",
    "X = df1.drop(columns = 'Potability')\n",
    "y = df1['Potability']"
   ]
  },
  {
   "cell_type": "code",
   "execution_count": 22,
   "id": "53628281",
   "metadata": {},
   "outputs": [
    {
     "data": {
      "text/html": [
       "<div>\n",
       "<style scoped>\n",
       "    .dataframe tbody tr th:only-of-type {\n",
       "        vertical-align: middle;\n",
       "    }\n",
       "\n",
       "    .dataframe tbody tr th {\n",
       "        vertical-align: top;\n",
       "    }\n",
       "\n",
       "    .dataframe thead th {\n",
       "        text-align: right;\n",
       "    }\n",
       "</style>\n",
       "<table border=\"1\" class=\"dataframe\">\n",
       "  <thead>\n",
       "    <tr style=\"text-align: right;\">\n",
       "      <th></th>\n",
       "      <th>ph</th>\n",
       "      <th>Hardness</th>\n",
       "      <th>Solids</th>\n",
       "      <th>Chloramines</th>\n",
       "      <th>Sulfate</th>\n",
       "      <th>Conductivity</th>\n",
       "      <th>Organic_carbon</th>\n",
       "      <th>Trihalomethanes</th>\n",
       "      <th>Turbidity</th>\n",
       "    </tr>\n",
       "  </thead>\n",
       "  <tbody>\n",
       "    <tr>\n",
       "      <th>0</th>\n",
       "      <td>-0.025474</td>\n",
       "      <td>0.259195</td>\n",
       "      <td>-0.139471</td>\n",
       "      <td>0.112415</td>\n",
       "      <td>0.965957</td>\n",
       "      <td>1.708954</td>\n",
       "      <td>-1.180651</td>\n",
       "      <td>1.305434</td>\n",
       "      <td>-1.286298</td>\n",
       "    </tr>\n",
       "    <tr>\n",
       "      <th>1</th>\n",
       "      <td>-2.284717</td>\n",
       "      <td>-2.036414</td>\n",
       "      <td>-0.385987</td>\n",
       "      <td>-0.307694</td>\n",
       "      <td>-0.014799</td>\n",
       "      <td>2.062575</td>\n",
       "      <td>0.270597</td>\n",
       "      <td>-0.639186</td>\n",
       "      <td>0.684218</td>\n",
       "    </tr>\n",
       "    <tr>\n",
       "      <th>2</th>\n",
       "      <td>0.697319</td>\n",
       "      <td>0.847665</td>\n",
       "      <td>-0.240047</td>\n",
       "      <td>1.360594</td>\n",
       "      <td>-0.014799</td>\n",
       "      <td>-0.094032</td>\n",
       "      <td>0.781117</td>\n",
       "      <td>0.000800</td>\n",
       "      <td>-1.167365</td>\n",
       "    </tr>\n",
       "    <tr>\n",
       "      <th>3</th>\n",
       "      <td>0.845393</td>\n",
       "      <td>0.547651</td>\n",
       "      <td>0.000493</td>\n",
       "      <td>0.592008</td>\n",
       "      <td>0.644130</td>\n",
       "      <td>-0.778830</td>\n",
       "      <td>1.255134</td>\n",
       "      <td>2.152154</td>\n",
       "      <td>0.848412</td>\n",
       "    </tr>\n",
       "    <tr>\n",
       "      <th>4</th>\n",
       "      <td>1.372982</td>\n",
       "      <td>-0.464429</td>\n",
       "      <td>-0.460249</td>\n",
       "      <td>-0.363698</td>\n",
       "      <td>-0.649522</td>\n",
       "      <td>-0.343939</td>\n",
       "      <td>-0.824357</td>\n",
       "      <td>-2.182297</td>\n",
       "      <td>0.138786</td>\n",
       "    </tr>\n",
       "    <tr>\n",
       "      <th>...</th>\n",
       "      <td>...</td>\n",
       "      <td>...</td>\n",
       "      <td>...</td>\n",
       "      <td>...</td>\n",
       "      <td>...</td>\n",
       "      <td>...</td>\n",
       "      <td>...</td>\n",
       "      <td>...</td>\n",
       "      <td>...</td>\n",
       "    </tr>\n",
       "    <tr>\n",
       "      <th>3271</th>\n",
       "      <td>-1.637002</td>\n",
       "      <td>-0.081758</td>\n",
       "      <td>2.916188</td>\n",
       "      <td>0.028027</td>\n",
       "      <td>0.728872</td>\n",
       "      <td>1.240155</td>\n",
       "      <td>-0.118075</td>\n",
       "      <td>0.017772</td>\n",
       "      <td>0.601124</td>\n",
       "    </tr>\n",
       "    <tr>\n",
       "      <th>3272</th>\n",
       "      <td>0.499833</td>\n",
       "      <td>-0.085667</td>\n",
       "      <td>-0.534295</td>\n",
       "      <td>0.593290</td>\n",
       "      <td>-0.014799</td>\n",
       "      <td>-0.417706</td>\n",
       "      <td>1.698560</td>\n",
       "      <td>0.013636</td>\n",
       "      <td>-1.497627</td>\n",
       "    </tr>\n",
       "    <tr>\n",
       "      <th>3273</th>\n",
       "      <td>1.595654</td>\n",
       "      <td>-0.626829</td>\n",
       "      <td>1.270810</td>\n",
       "      <td>0.144017</td>\n",
       "      <td>-0.014799</td>\n",
       "      <td>0.072263</td>\n",
       "      <td>-0.981329</td>\n",
       "      <td>0.218038</td>\n",
       "      <td>-0.856007</td>\n",
       "    </tr>\n",
       "    <tr>\n",
       "      <th>3274</th>\n",
       "      <td>-1.324949</td>\n",
       "      <td>1.041355</td>\n",
       "      <td>-1.144058</td>\n",
       "      <td>-0.517373</td>\n",
       "      <td>-0.014799</td>\n",
       "      <td>-0.288597</td>\n",
       "      <td>-0.942064</td>\n",
       "      <td>0.702756</td>\n",
       "      <td>0.950797</td>\n",
       "    </tr>\n",
       "    <tr>\n",
       "      <th>3275</th>\n",
       "      <td>0.544611</td>\n",
       "      <td>-0.038546</td>\n",
       "      <td>-0.525812</td>\n",
       "      <td>0.244515</td>\n",
       "      <td>-0.014799</td>\n",
       "      <td>-1.221919</td>\n",
       "      <td>0.560940</td>\n",
       "      <td>0.779510</td>\n",
       "      <td>-2.124459</td>\n",
       "    </tr>\n",
       "  </tbody>\n",
       "</table>\n",
       "<p>3276 rows × 9 columns</p>\n",
       "</div>"
      ],
      "text/plain": [
       "            ph  Hardness    Solids  Chloramines   Sulfate  Conductivity  \\\n",
       "0    -0.025474  0.259195 -0.139471     0.112415  0.965957      1.708954   \n",
       "1    -2.284717 -2.036414 -0.385987    -0.307694 -0.014799      2.062575   \n",
       "2     0.697319  0.847665 -0.240047     1.360594 -0.014799     -0.094032   \n",
       "3     0.845393  0.547651  0.000493     0.592008  0.644130     -0.778830   \n",
       "4     1.372982 -0.464429 -0.460249    -0.363698 -0.649522     -0.343939   \n",
       "...        ...       ...       ...          ...       ...           ...   \n",
       "3271 -1.637002 -0.081758  2.916188     0.028027  0.728872      1.240155   \n",
       "3272  0.499833 -0.085667 -0.534295     0.593290 -0.014799     -0.417706   \n",
       "3273  1.595654 -0.626829  1.270810     0.144017 -0.014799      0.072263   \n",
       "3274 -1.324949  1.041355 -1.144058    -0.517373 -0.014799     -0.288597   \n",
       "3275  0.544611 -0.038546 -0.525812     0.244515 -0.014799     -1.221919   \n",
       "\n",
       "      Organic_carbon  Trihalomethanes  Turbidity  \n",
       "0          -1.180651         1.305434  -1.286298  \n",
       "1           0.270597        -0.639186   0.684218  \n",
       "2           0.781117         0.000800  -1.167365  \n",
       "3           1.255134         2.152154   0.848412  \n",
       "4          -0.824357        -2.182297   0.138786  \n",
       "...              ...              ...        ...  \n",
       "3271       -0.118075         0.017772   0.601124  \n",
       "3272        1.698560         0.013636  -1.497627  \n",
       "3273       -0.981329         0.218038  -0.856007  \n",
       "3274       -0.942064         0.702756   0.950797  \n",
       "3275        0.560940         0.779510  -2.124459  \n",
       "\n",
       "[3276 rows x 9 columns]"
      ]
     },
     "execution_count": 22,
     "metadata": {},
     "output_type": "execute_result"
    }
   ],
   "source": [
    "# applying Standard Scalar\n",
    "from sklearn.preprocessing import StandardScaler\n",
    "st = StandardScaler()\n",
    "col = X.columns\n",
    "X[col] = st.fit_transform(X[col])\n",
    "X[col]"
   ]
  },
  {
   "cell_type": "code",
   "execution_count": 23,
   "id": "11e2125c",
   "metadata": {},
   "outputs": [],
   "source": [
    "# Splitting the dataset\n",
    "from sklearn.model_selection import train_test_split\n",
    "X_train,X_val,y_train,y_val=train_test_split(X,y,test_size=0.3,random_state=40)"
   ]
  },
  {
   "cell_type": "markdown",
   "id": "33ac566f",
   "metadata": {},
   "source": [
    "## Model Building"
   ]
  },
  {
   "cell_type": "code",
   "execution_count": 24,
   "id": "39ceaec3",
   "metadata": {},
   "outputs": [],
   "source": [
    "# Importing Libraries\n",
    "from sklearn.tree import DecisionTreeClassifier\n",
    "from sklearn.ensemble import RandomForestClassifier, GradientBoostingClassifier\n",
    "from sklearn.linear_model import LogisticRegression\n",
    "from sklearn.metrics import accuracy_score"
   ]
  },
  {
   "cell_type": "markdown",
   "id": "30962a87",
   "metadata": {},
   "source": [
    "### Decision Tree"
   ]
  },
  {
   "cell_type": "code",
   "execution_count": 25,
   "id": "2ea7d90b",
   "metadata": {},
   "outputs": [
    {
     "data": {
      "text/plain": [
       "DecisionTreeClassifier()"
      ]
     },
     "execution_count": 25,
     "metadata": {},
     "output_type": "execute_result"
    }
   ],
   "source": [
    "dt = DecisionTreeClassifier()\n",
    "dt.fit(X_train, y_train)"
   ]
  },
  {
   "cell_type": "code",
   "execution_count": 26,
   "id": "fd2e2d80",
   "metadata": {},
   "outputs": [],
   "source": [
    "y_pred = dt.predict(X_val)"
   ]
  },
  {
   "cell_type": "code",
   "execution_count": 27,
   "id": "2d8f4e2b",
   "metadata": {},
   "outputs": [
    {
     "data": {
      "text/plain": [
       "0.572736520854527"
      ]
     },
     "execution_count": 27,
     "metadata": {},
     "output_type": "execute_result"
    }
   ],
   "source": [
    "accuracy_score(y_val, y_pred)"
   ]
  },
  {
   "cell_type": "markdown",
   "id": "ae0935c5",
   "metadata": {},
   "source": [
    "### Random Forest"
   ]
  },
  {
   "cell_type": "code",
   "execution_count": 28,
   "id": "5c99f58d",
   "metadata": {},
   "outputs": [
    {
     "data": {
      "text/plain": [
       "RandomForestClassifier(min_samples_leaf=2, n_estimators=200, random_state=12)"
      ]
     },
     "execution_count": 28,
     "metadata": {},
     "output_type": "execute_result"
    }
   ],
   "source": [
    "rf = RandomForestClassifier(n_estimators = 200, min_samples_leaf = 2,random_state = 12)\n",
    "rf.fit(X_train, y_train)"
   ]
  },
  {
   "cell_type": "code",
   "execution_count": 29,
   "id": "94a09a5a",
   "metadata": {},
   "outputs": [],
   "source": [
    "y_pred = rf.predict(X_val)"
   ]
  },
  {
   "cell_type": "code",
   "execution_count": 30,
   "id": "3540d4b2",
   "metadata": {},
   "outputs": [
    {
     "data": {
      "text/plain": [
       "0.6612410986775178"
      ]
     },
     "execution_count": 30,
     "metadata": {},
     "output_type": "execute_result"
    }
   ],
   "source": [
    "accuracy_score(y_val, y_pred)"
   ]
  },
  {
   "cell_type": "markdown",
   "id": "d6da8267",
   "metadata": {},
   "source": [
    "### Logistic Regression"
   ]
  },
  {
   "cell_type": "code",
   "execution_count": 31,
   "id": "d7e204ed",
   "metadata": {},
   "outputs": [
    {
     "data": {
      "text/plain": [
       "LogisticRegression()"
      ]
     },
     "execution_count": 31,
     "metadata": {},
     "output_type": "execute_result"
    }
   ],
   "source": [
    "lr = LogisticRegression()\n",
    "lr.fit(X_train, y_train)"
   ]
  },
  {
   "cell_type": "code",
   "execution_count": 32,
   "id": "3f660368",
   "metadata": {},
   "outputs": [],
   "source": [
    "y_pred = lr.predict(X_val)"
   ]
  },
  {
   "cell_type": "code",
   "execution_count": 33,
   "id": "7efc866f",
   "metadata": {},
   "outputs": [
    {
     "data": {
      "text/plain": [
       "0.5991861648016277"
      ]
     },
     "execution_count": 33,
     "metadata": {},
     "output_type": "execute_result"
    }
   ],
   "source": [
    "accuracy_score(y_val, y_pred)"
   ]
  },
  {
   "cell_type": "markdown",
   "id": "3ed01b3b",
   "metadata": {},
   "source": [
    "### Gradient Boosting"
   ]
  },
  {
   "cell_type": "code",
   "execution_count": 34,
   "id": "70dc6fc6",
   "metadata": {},
   "outputs": [
    {
     "data": {
      "text/plain": [
       "GradientBoostingClassifier()"
      ]
     },
     "execution_count": 34,
     "metadata": {},
     "output_type": "execute_result"
    }
   ],
   "source": [
    "gbc = GradientBoostingClassifier()\n",
    "gbc.fit(X_train, y_train)"
   ]
  },
  {
   "cell_type": "code",
   "execution_count": 35,
   "id": "e953b60c",
   "metadata": {},
   "outputs": [],
   "source": [
    "y_pred = gbc.predict(X_val)"
   ]
  },
  {
   "cell_type": "code",
   "execution_count": 36,
   "id": "ede829f4",
   "metadata": {},
   "outputs": [
    {
     "data": {
      "text/plain": [
       "0.6551373346897253"
      ]
     },
     "execution_count": 36,
     "metadata": {},
     "output_type": "execute_result"
    }
   ],
   "source": [
    "accuracy_score(y_val, y_pred)"
   ]
  }
 ],
 "metadata": {
  "kernelspec": {
   "display_name": "Python 3 (ipykernel)",
   "language": "python",
   "name": "python3"
  },
  "language_info": {
   "codemirror_mode": {
    "name": "ipython",
    "version": 3
   },
   "file_extension": ".py",
   "mimetype": "text/x-python",
   "name": "python",
   "nbconvert_exporter": "python",
   "pygments_lexer": "ipython3",
   "version": "3.9.12"
  }
 },
 "nbformat": 4,
 "nbformat_minor": 5
}
